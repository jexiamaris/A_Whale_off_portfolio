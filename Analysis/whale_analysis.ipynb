{
 "metadata": {
  "language_info": {
   "codemirror_mode": {
    "name": "ipython",
    "version": 3
   },
   "file_extension": ".py",
   "mimetype": "text/x-python",
   "name": "python",
   "nbconvert_exporter": "python",
   "pygments_lexer": "ipython3",
   "version": "3.8.3-final"
  },
  "orig_nbformat": 2,
  "kernelspec": {
   "name": "Python 3.8.3 64-bit ('base': conda)",
   "display_name": "Python 3.8.3 64-bit ('base': conda)",
   "metadata": {
    "interpreter": {
     "hash": "3b2d1872a97fb64bbb0bf089e5dc4a4b17c31375caf39a3144f71c656be998ab"
    }
   }
  }
 },
 "nbformat": 4,
 "nbformat_minor": 2,
 "cells": [
  {
   "cell_type": "code",
   "execution_count": 1,
   "metadata": {},
   "outputs": [],
   "source": [
    "import pandas as pd \n",
    "import numpy as np \n",
    "import datetime as dt \n",
    "from pathlib import Path\n",
    "import seaborn as sns\n",
    "import matplotlib.pyplot as plt \n",
    "%matplotlib inline"
   ]
  },
  {
   "cell_type": "code",
   "execution_count": 2,
   "metadata": {},
   "outputs": [
    {
     "output_type": "execute_result",
     "data": {
      "text/plain": [
       "            SOROS FUND MANAGEMENT LLC  PAULSON & CO.INC.   \\\n",
       "Date                                                        \n",
       "2015-03-02                        NaN                 NaN   \n",
       "2015-03-03                  -0.001266           -0.004981   \n",
       "2015-03-04                   0.002230            0.003241   \n",
       "2015-03-05                   0.004016            0.004076   \n",
       "2015-03-06                  -0.007905           -0.003574   \n",
       "\n",
       "            TIGER GLOBAL MANAGEMENT LLC  BERKSHIRE HATHAWAY INC  \n",
       "Date                                                             \n",
       "2015-03-02                          NaN                     NaN  \n",
       "2015-03-03                    -0.000496               -0.006569  \n",
       "2015-03-04                    -0.002534                0.004213  \n",
       "2015-03-05                     0.002355                0.006726  \n",
       "2015-03-06                    -0.008481               -0.013098  "
      ],
      "text/html": "<div>\n<style scoped>\n    .dataframe tbody tr th:only-of-type {\n        vertical-align: middle;\n    }\n\n    .dataframe tbody tr th {\n        vertical-align: top;\n    }\n\n    .dataframe thead th {\n        text-align: right;\n    }\n</style>\n<table border=\"1\" class=\"dataframe\">\n  <thead>\n    <tr style=\"text-align: right;\">\n      <th></th>\n      <th>SOROS FUND MANAGEMENT LLC</th>\n      <th>PAULSON &amp; CO.INC.</th>\n      <th>TIGER GLOBAL MANAGEMENT LLC</th>\n      <th>BERKSHIRE HATHAWAY INC</th>\n    </tr>\n    <tr>\n      <th>Date</th>\n      <th></th>\n      <th></th>\n      <th></th>\n      <th></th>\n    </tr>\n  </thead>\n  <tbody>\n    <tr>\n      <th>2015-03-02</th>\n      <td>NaN</td>\n      <td>NaN</td>\n      <td>NaN</td>\n      <td>NaN</td>\n    </tr>\n    <tr>\n      <th>2015-03-03</th>\n      <td>-0.001266</td>\n      <td>-0.004981</td>\n      <td>-0.000496</td>\n      <td>-0.006569</td>\n    </tr>\n    <tr>\n      <th>2015-03-04</th>\n      <td>0.002230</td>\n      <td>0.003241</td>\n      <td>-0.002534</td>\n      <td>0.004213</td>\n    </tr>\n    <tr>\n      <th>2015-03-05</th>\n      <td>0.004016</td>\n      <td>0.004076</td>\n      <td>0.002355</td>\n      <td>0.006726</td>\n    </tr>\n    <tr>\n      <th>2015-03-06</th>\n      <td>-0.007905</td>\n      <td>-0.003574</td>\n      <td>-0.008481</td>\n      <td>-0.013098</td>\n    </tr>\n  </tbody>\n</table>\n</div>"
     },
     "metadata": {},
     "execution_count": 2
    }
   ],
   "source": [
    "# Whale Daily Returns\n",
    "# read csv file\n",
    "whale_returns_path = Path(\"../Resources/whale_returns.csv\")\n",
    "\n",
    "whale_returns = pd.read_csv(whale_returns_path, infer_datetime_format=True, parse_dates=True, index_col=\"Date\")\n",
    "whale_returns.head()"
   ]
  },
  {
   "cell_type": "code",
   "execution_count": 3,
   "metadata": {},
   "outputs": [
    {
     "output_type": "execute_result",
     "data": {
      "text/plain": [
       "SOROS FUND MANAGEMENT LLC      0.09434\n",
       "PAULSON & CO.INC.              0.09434\n",
       "TIGER GLOBAL MANAGEMENT LLC    0.09434\n",
       "BERKSHIRE HATHAWAY INC         0.09434\n",
       "dtype: float64"
      ]
     },
     "metadata": {},
     "execution_count": 3
    }
   ],
   "source": [
    "# Count nulls values\n",
    "whale_returns.isnull().mean() * 100"
   ]
  },
  {
   "cell_type": "code",
   "execution_count": 4,
   "metadata": {},
   "outputs": [
    {
     "output_type": "execute_result",
     "data": {
      "text/plain": [
       "SOROS FUND MANAGEMENT LLC      0\n",
       "PAULSON & CO.INC.              0\n",
       "TIGER GLOBAL MANAGEMENT LLC    0\n",
       "BERKSHIRE HATHAWAY INC         0\n",
       "dtype: int64"
      ]
     },
     "metadata": {},
     "execution_count": 4
    }
   ],
   "source": [
    "# Drop nulls\n",
    "whale_returns = whale_returns.dropna()\n",
    "whale_returns.isnull().sum()"
   ]
  },
  {
   "cell_type": "code",
   "execution_count": 5,
   "metadata": {},
   "outputs": [
    {
     "output_type": "execute_result",
     "data": {
      "text/plain": [
       "              Algo 1  Algo 2\n",
       "Date                        \n",
       "2014-05-28  0.001745     NaN\n",
       "2014-05-29  0.003978     NaN\n",
       "2014-05-30  0.004464     NaN\n",
       "2014-06-02  0.005692     NaN\n",
       "2014-06-03  0.005292     NaN"
      ],
      "text/html": "<div>\n<style scoped>\n    .dataframe tbody tr th:only-of-type {\n        vertical-align: middle;\n    }\n\n    .dataframe tbody tr th {\n        vertical-align: top;\n    }\n\n    .dataframe thead th {\n        text-align: right;\n    }\n</style>\n<table border=\"1\" class=\"dataframe\">\n  <thead>\n    <tr style=\"text-align: right;\">\n      <th></th>\n      <th>Algo 1</th>\n      <th>Algo 2</th>\n    </tr>\n    <tr>\n      <th>Date</th>\n      <th></th>\n      <th></th>\n    </tr>\n  </thead>\n  <tbody>\n    <tr>\n      <th>2014-05-28</th>\n      <td>0.001745</td>\n      <td>NaN</td>\n    </tr>\n    <tr>\n      <th>2014-05-29</th>\n      <td>0.003978</td>\n      <td>NaN</td>\n    </tr>\n    <tr>\n      <th>2014-05-30</th>\n      <td>0.004464</td>\n      <td>NaN</td>\n    </tr>\n    <tr>\n      <th>2014-06-02</th>\n      <td>0.005692</td>\n      <td>NaN</td>\n    </tr>\n    <tr>\n      <th>2014-06-03</th>\n      <td>0.005292</td>\n      <td>NaN</td>\n    </tr>\n  </tbody>\n</table>\n</div>"
     },
     "metadata": {},
     "execution_count": 5
    }
   ],
   "source": [
    "# Algorithmic Daily Returns\n",
    "# read csv file\n",
    "algo_returns_path = Path(\"../Resources/algo_returns.csv\")\n",
    "\n",
    "algo_returns = pd.read_csv(algo_returns_path, infer_datetime_format=True, parse_dates=True, index_col=\"Date\")\n",
    "algo_returns.head()"
   ]
  },
  {
   "cell_type": "code",
   "execution_count": 6,
   "metadata": {},
   "outputs": [
    {
     "output_type": "execute_result",
     "data": {
      "text/plain": [
       "Algo 1    0.000000\n",
       "Algo 2    0.483481\n",
       "dtype: float64"
      ]
     },
     "metadata": {},
     "execution_count": 6
    }
   ],
   "source": [
    "# Count nulls values\n",
    "algo_returns.isnull().mean() * 100"
   ]
  },
  {
   "cell_type": "code",
   "execution_count": 7,
   "metadata": {},
   "outputs": [
    {
     "output_type": "execute_result",
     "data": {
      "text/plain": [
       "Algo 1    0\n",
       "Algo 2    0\n",
       "dtype: int64"
      ]
     },
     "metadata": {},
     "execution_count": 7
    }
   ],
   "source": [
    "# Drop nulls\n",
    "algo_returns = algo_returns.dropna()\n",
    "algo_returns.isnull().sum()"
   ]
  },
  {
   "cell_type": "code",
   "execution_count": 22,
   "metadata": {},
   "outputs": [
    {
     "output_type": "execute_result",
     "data": {
      "text/plain": [
       "               Close\n",
       "Date                \n",
       "2019-04-23  $2933.68\n",
       "2019-04-22  $2907.97\n",
       "2019-04-18  $2905.03\n",
       "2019-04-17  $2900.45\n",
       "2019-04-16  $2907.06"
      ],
      "text/html": "<div>\n<style scoped>\n    .dataframe tbody tr th:only-of-type {\n        vertical-align: middle;\n    }\n\n    .dataframe tbody tr th {\n        vertical-align: top;\n    }\n\n    .dataframe thead th {\n        text-align: right;\n    }\n</style>\n<table border=\"1\" class=\"dataframe\">\n  <thead>\n    <tr style=\"text-align: right;\">\n      <th></th>\n      <th>Close</th>\n    </tr>\n    <tr>\n      <th>Date</th>\n      <th></th>\n    </tr>\n  </thead>\n  <tbody>\n    <tr>\n      <th>2019-04-23</th>\n      <td>$2933.68</td>\n    </tr>\n    <tr>\n      <th>2019-04-22</th>\n      <td>$2907.97</td>\n    </tr>\n    <tr>\n      <th>2019-04-18</th>\n      <td>$2905.03</td>\n    </tr>\n    <tr>\n      <th>2019-04-17</th>\n      <td>$2900.45</td>\n    </tr>\n    <tr>\n      <th>2019-04-16</th>\n      <td>$2907.06</td>\n    </tr>\n  </tbody>\n</table>\n</div>"
     },
     "metadata": {},
     "execution_count": 22
    }
   ],
   "source": [
    "# S&P500 Returns\n",
    "sp500_historical_path = Path(\"../Resources/sp500_historical.csv\")\n",
    "\n",
    "sp500_historical = pd.read_csv(sp500_historical_path, infer_datetime_format=True, parse_dates=True, index_col=\"Date\")\n",
    "sp500_historical.head()"
   ]
  },
  {
   "cell_type": "code",
   "execution_count": 23,
   "metadata": {},
   "outputs": [
    {
     "output_type": "execute_result",
     "data": {
      "text/plain": [
       "Date\n",
       "2019-04-23    2933.68\n",
       "2019-04-22    2907.97\n",
       "2019-04-18    2905.03\n",
       "2019-04-17    2900.45\n",
       "2019-04-16    2907.06\n",
       "               ...   \n",
       "2012-10-05    1460.93\n",
       "2012-10-04    1461.40\n",
       "2012-10-03    1450.99\n",
       "2012-10-02    1445.75\n",
       "2012-10-01    1444.49\n",
       "Name: Close, Length: 1649, dtype: object"
      ]
     },
     "metadata": {},
     "execution_count": 23
    }
   ],
   "source": [
    "# Remove dollar signs\n",
    "sp500_historical['Close'] = sp500_historical['Close'].str.replace('$', '')\n",
    "sp500_historical['Close']"
   ]
  },
  {
   "cell_type": "code",
   "execution_count": 24,
   "metadata": {},
   "outputs": [
    {
     "output_type": "execute_result",
     "data": {
      "text/plain": [
       "Close    object\n",
       "dtype: object"
      ]
     },
     "metadata": {},
     "execution_count": 24
    }
   ],
   "source": [
    "# confirm data type\n",
    "sp500_historical.dtypes"
   ]
  },
  {
   "cell_type": "code",
   "execution_count": 25,
   "metadata": {},
   "outputs": [
    {
     "output_type": "execute_result",
     "data": {
      "text/plain": [
       "Close    float64\n",
       "dtype: object"
      ]
     },
     "metadata": {},
     "execution_count": 25
    }
   ],
   "source": [
    "# set price as float\n",
    "sp500_historical = sp500_historical.astype('float')\n",
    "sp500_historical.dtypes"
   ]
  },
  {
   "cell_type": "code",
   "execution_count": 26,
   "metadata": {},
   "outputs": [
    {
     "output_type": "execute_result",
     "data": {
      "text/plain": [
       "               Close\n",
       "Date                \n",
       "2019-04-23       NaN\n",
       "2019-04-22 -0.008764\n",
       "2019-04-18 -0.001011\n",
       "2019-04-17 -0.001577\n",
       "2019-04-16  0.002279"
      ],
      "text/html": "<div>\n<style scoped>\n    .dataframe tbody tr th:only-of-type {\n        vertical-align: middle;\n    }\n\n    .dataframe tbody tr th {\n        vertical-align: top;\n    }\n\n    .dataframe thead th {\n        text-align: right;\n    }\n</style>\n<table border=\"1\" class=\"dataframe\">\n  <thead>\n    <tr style=\"text-align: right;\">\n      <th></th>\n      <th>Close</th>\n    </tr>\n    <tr>\n      <th>Date</th>\n      <th></th>\n    </tr>\n  </thead>\n  <tbody>\n    <tr>\n      <th>2019-04-23</th>\n      <td>NaN</td>\n    </tr>\n    <tr>\n      <th>2019-04-22</th>\n      <td>-0.008764</td>\n    </tr>\n    <tr>\n      <th>2019-04-18</th>\n      <td>-0.001011</td>\n    </tr>\n    <tr>\n      <th>2019-04-17</th>\n      <td>-0.001577</td>\n    </tr>\n    <tr>\n      <th>2019-04-16</th>\n      <td>0.002279</td>\n    </tr>\n  </tbody>\n</table>\n</div>"
     },
     "metadata": {},
     "execution_count": 26
    }
   ],
   "source": [
    "# Calculate the S&P 500  daily returns.\n",
    "sp500_returns = sp500_historical.pct_change()\n",
    "sp500_returns.head()"
   ]
  },
  {
   "cell_type": "code",
   "execution_count": 27,
   "metadata": {},
   "outputs": [
    {
     "output_type": "execute_result",
     "data": {
      "text/plain": [
       "Close    0.060643\n",
       "dtype: float64"
      ]
     },
     "metadata": {},
     "execution_count": 27
    }
   ],
   "source": [
    "# Count nulls values\n",
    "sp500_returns.isnull().mean() * 100"
   ]
  },
  {
   "cell_type": "code",
   "execution_count": 28,
   "metadata": {},
   "outputs": [
    {
     "output_type": "execute_result",
     "data": {
      "text/plain": [
       "Close    0\n",
       "dtype: int64"
      ]
     },
     "metadata": {},
     "execution_count": 28
    }
   ],
   "source": [
    "# Drop nulss\n",
    "sp500_returns = sp500_returns.dropna()\n",
    "sp500_returns.isnull().sum()"
   ]
  },
  {
   "cell_type": "code",
   "execution_count": 29,
   "metadata": {},
   "outputs": [
    {
     "output_type": "execute_result",
     "data": {
      "text/plain": [
       "             S&P 500\n",
       "Date                \n",
       "2019-04-22 -0.008764\n",
       "2019-04-18 -0.001011\n",
       "2019-04-17 -0.001577\n",
       "2019-04-16  0.002279\n",
       "2019-04-15 -0.000509"
      ],
      "text/html": "<div>\n<style scoped>\n    .dataframe tbody tr th:only-of-type {\n        vertical-align: middle;\n    }\n\n    .dataframe tbody tr th {\n        vertical-align: top;\n    }\n\n    .dataframe thead th {\n        text-align: right;\n    }\n</style>\n<table border=\"1\" class=\"dataframe\">\n  <thead>\n    <tr style=\"text-align: right;\">\n      <th></th>\n      <th>S&amp;P 500</th>\n    </tr>\n    <tr>\n      <th>Date</th>\n      <th></th>\n    </tr>\n  </thead>\n  <tbody>\n    <tr>\n      <th>2019-04-22</th>\n      <td>-0.008764</td>\n    </tr>\n    <tr>\n      <th>2019-04-18</th>\n      <td>-0.001011</td>\n    </tr>\n    <tr>\n      <th>2019-04-17</th>\n      <td>-0.001577</td>\n    </tr>\n    <tr>\n      <th>2019-04-16</th>\n      <td>0.002279</td>\n    </tr>\n    <tr>\n      <th>2019-04-15</th>\n      <td>-0.000509</td>\n    </tr>\n  </tbody>\n</table>\n</div>"
     },
     "metadata": {},
     "execution_count": 29
    }
   ],
   "source": [
    "# Rename column\n",
    "sp500_returns= sp500_returns.rename(columns={\"Close\": \"S&P 500\"})\n",
    "sp500_returns.head()"
   ]
  },
  {
   "cell_type": "code",
   "execution_count": 35,
   "metadata": {},
   "outputs": [
    {
     "output_type": "execute_result",
     "data": {
      "text/plain": [
       "              Algo 1    Algo 2   S&P 500  SOROS FUND MANAGEMENT LLC  \\\n",
       "Date                                                                  \n",
       "2015-03-03 -0.001942 -0.000949  0.004408                  -0.001266   \n",
       "2015-03-04 -0.008589  0.002416 -0.001195                   0.002230   \n",
       "2015-03-05 -0.000955  0.004323  0.014378                   0.004016   \n",
       "2015-03-06 -0.004957 -0.011460 -0.003929                  -0.007905   \n",
       "2015-03-09 -0.005447  0.001303  0.017254                   0.000582   \n",
       "\n",
       "            PAULSON & CO.INC.   TIGER GLOBAL MANAGEMENT LLC  \\\n",
       "Date                                                          \n",
       "2015-03-03           -0.004981                    -0.000496   \n",
       "2015-03-04            0.003241                    -0.002534   \n",
       "2015-03-05            0.004076                     0.002355   \n",
       "2015-03-06           -0.003574                    -0.008481   \n",
       "2015-03-09            0.004225                     0.005843   \n",
       "\n",
       "            BERKSHIRE HATHAWAY INC  \n",
       "Date                                \n",
       "2015-03-03               -0.006569  \n",
       "2015-03-04                0.004213  \n",
       "2015-03-05                0.006726  \n",
       "2015-03-06               -0.013098  \n",
       "2015-03-09               -0.001652  "
      ],
      "text/html": "<div>\n<style scoped>\n    .dataframe tbody tr th:only-of-type {\n        vertical-align: middle;\n    }\n\n    .dataframe tbody tr th {\n        vertical-align: top;\n    }\n\n    .dataframe thead th {\n        text-align: right;\n    }\n</style>\n<table border=\"1\" class=\"dataframe\">\n  <thead>\n    <tr style=\"text-align: right;\">\n      <th></th>\n      <th>Algo 1</th>\n      <th>Algo 2</th>\n      <th>S&amp;P 500</th>\n      <th>SOROS FUND MANAGEMENT LLC</th>\n      <th>PAULSON &amp; CO.INC.</th>\n      <th>TIGER GLOBAL MANAGEMENT LLC</th>\n      <th>BERKSHIRE HATHAWAY INC</th>\n    </tr>\n    <tr>\n      <th>Date</th>\n      <th></th>\n      <th></th>\n      <th></th>\n      <th></th>\n      <th></th>\n      <th></th>\n      <th></th>\n    </tr>\n  </thead>\n  <tbody>\n    <tr>\n      <th>2015-03-03</th>\n      <td>-0.001942</td>\n      <td>-0.000949</td>\n      <td>0.004408</td>\n      <td>-0.001266</td>\n      <td>-0.004981</td>\n      <td>-0.000496</td>\n      <td>-0.006569</td>\n    </tr>\n    <tr>\n      <th>2015-03-04</th>\n      <td>-0.008589</td>\n      <td>0.002416</td>\n      <td>-0.001195</td>\n      <td>0.002230</td>\n      <td>0.003241</td>\n      <td>-0.002534</td>\n      <td>0.004213</td>\n    </tr>\n    <tr>\n      <th>2015-03-05</th>\n      <td>-0.000955</td>\n      <td>0.004323</td>\n      <td>0.014378</td>\n      <td>0.004016</td>\n      <td>0.004076</td>\n      <td>0.002355</td>\n      <td>0.006726</td>\n    </tr>\n    <tr>\n      <th>2015-03-06</th>\n      <td>-0.004957</td>\n      <td>-0.011460</td>\n      <td>-0.003929</td>\n      <td>-0.007905</td>\n      <td>-0.003574</td>\n      <td>-0.008481</td>\n      <td>-0.013098</td>\n    </tr>\n    <tr>\n      <th>2015-03-09</th>\n      <td>-0.005447</td>\n      <td>0.001303</td>\n      <td>0.017254</td>\n      <td>0.000582</td>\n      <td>0.004225</td>\n      <td>0.005843</td>\n      <td>-0.001652</td>\n    </tr>\n  </tbody>\n</table>\n</div>"
     },
     "metadata": {},
     "execution_count": 35
    }
   ],
   "source": [
    "# Combined daile returns \n",
    "Combined_daily_returns = pd.concat([algo_returns, sp500_returns, whale_returns], axis='columns', join='inner')\n",
    "\n",
    "Combined_daily_returns.head()\n"
   ]
  },
  {
   "cell_type": "code",
   "execution_count": 36,
   "metadata": {},
   "outputs": [],
   "source": [
    "\n",
    "# Sorting\n",
    "Combined_daily_returns = Combined_daily_returns.sort_index(inplace=True)"
   ]
  },
  {
   "source": [
    "Portfolio Analysis"
   ],
   "cell_type": "markdown",
   "metadata": {}
  },
  {
   "cell_type": "code",
   "execution_count": 46,
   "metadata": {},
   "outputs": [
    {
     "output_type": "error",
     "ename": "AttributeError",
     "evalue": "'NoneType' object has no attribute 'plot'",
     "traceback": [
      "\u001b[1;31m---------------------------------------------------------------------------\u001b[0m",
      "\u001b[1;31mAttributeError\u001b[0m                            Traceback (most recent call last)",
      "\u001b[1;32m<ipython-input-46-ddeeb7e967cd>\u001b[0m in \u001b[0;36m<module>\u001b[1;34m\u001b[0m\n\u001b[0;32m      1\u001b[0m \u001b[1;31m# Plot daily returns\u001b[0m\u001b[1;33m\u001b[0m\u001b[1;33m\u001b[0m\u001b[1;33m\u001b[0m\u001b[0m\n\u001b[1;32m----> 2\u001b[1;33m \u001b[0mCombined_daily_returns\u001b[0m\u001b[1;33m.\u001b[0m\u001b[0mplot\u001b[0m\u001b[1;33m(\u001b[0m\u001b[0mtitle\u001b[0m\u001b[1;33m=\u001b[0m\u001b[1;34m'Daily Returns'\u001b[0m\u001b[1;33m)\u001b[0m\u001b[1;33m\u001b[0m\u001b[1;33m\u001b[0m\u001b[0m\n\u001b[0m",
      "\u001b[1;31mAttributeError\u001b[0m: 'NoneType' object has no attribute 'plot'"
     ]
    }
   ],
   "source": [
    "# Plot daily returns\n",
    "Combined_daily_returns.plot(title='Daily Returns')"
   ]
  },
  {
   "cell_type": "code",
   "execution_count": 43,
   "metadata": {},
   "outputs": [
    {
     "output_type": "error",
     "ename": "TypeError",
     "evalue": "unsupported operand type(s) for +: 'int' and 'NoneType'",
     "traceback": [
      "\u001b[1;31m---------------------------------------------------------------------------\u001b[0m",
      "\u001b[1;31mTypeError\u001b[0m                                 Traceback (most recent call last)",
      "\u001b[1;32m<ipython-input-43-de1c67e685cd>\u001b[0m in \u001b[0;36m<module>\u001b[1;34m\u001b[0m\n\u001b[0;32m      1\u001b[0m \u001b[1;31m# Plot cumulative returns\u001b[0m\u001b[1;33m\u001b[0m\u001b[1;33m\u001b[0m\u001b[1;33m\u001b[0m\u001b[0m\n\u001b[1;32m----> 2\u001b[1;33m \u001b[0mcumulative_returns\u001b[0m \u001b[1;33m=\u001b[0m \u001b[1;33m(\u001b[0m\u001b[1;36m1\u001b[0m \u001b[1;33m+\u001b[0m \u001b[0mCombined_daily_returns\u001b[0m\u001b[1;33m)\u001b[0m\u001b[1;33m.\u001b[0m\u001b[0mcumprod\u001b[0m\u001b[1;33m(\u001b[0m\u001b[1;33m)\u001b[0m\u001b[1;33m\u001b[0m\u001b[1;33m\u001b[0m\u001b[0m\n\u001b[0m\u001b[0;32m      3\u001b[0m \u001b[0mcumulative_returns\u001b[0m\u001b[1;33m.\u001b[0m\u001b[0mplot\u001b[0m\u001b[1;33m(\u001b[0m\u001b[1;33m)\u001b[0m\u001b[1;33m\u001b[0m\u001b[1;33m\u001b[0m\u001b[0m\n",
      "\u001b[1;31mTypeError\u001b[0m: unsupported operand type(s) for +: 'int' and 'NoneType'"
     ]
    }
   ],
   "source": [
    "# Plot cumulative returns\n",
    "cumulative_returns = (1 + Combined_daily_returns).cumprod()\n",
    "cumulative_returns.plot(title='Cumulative Returns')"
   ]
  },
  {
   "source": [
    "Risk"
   ],
   "cell_type": "markdown",
   "metadata": {}
  },
  {
   "cell_type": "code",
   "execution_count": null,
   "metadata": {},
   "outputs": [],
   "source": [
    "# Box plot to visually show risk\n",
    "Combined_daily_returns.plot(kind='box', title='Portfolio Risk')"
   ]
  },
  {
   "cell_type": "code",
   "execution_count": null,
   "metadata": {},
   "outputs": [],
   "source": [
    "# Daily Standard Deviations\n",
    "# Calculate the standard deviation for each portfolio. \n",
    "whale_std = whale_returns.std()\n",
    "algo_std = algo_returns.std()\n",
    "sp500_std = sp500_returns.std()\n",
    "\n",
    "# Which portfolios are riskier than the S&P 500?"
   ]
  },
  {
   "cell_type": "code",
   "execution_count": null,
   "metadata": {},
   "outputs": [],
   "source": [
    "# Determine which portfolios are riskier than the S&P 500\n",
    "if whale_std > sp500_std:\n",
    "    print(\"True\")\n",
    "elif algo_std > sp500_std:\n",
    "    print(\"True\")\n",
    "else:\n",
    "    print(\"False\")"
   ]
  },
  {
   "cell_type": "code",
   "execution_count": null,
   "metadata": {},
   "outputs": [],
   "source": [
    "# Calculate the annualized standard deviation (252 trading days)\n",
    "annualized_std = (Combined_daily_returns.mean()*252)/(Combined_daily_returns.std *np.sqrt(252))"
   ]
  },
  {
   "cell_type": "code",
   "execution_count": null,
   "metadata": {},
   "outputs": [],
   "source": [
    "# Rolling Statistics\n",
    "# Calculate and plot the rolling standard deviation using a 21 trading day window\n",
    "whale_SMA_21 = whale_std.rolling(window=21).mean()\n",
    "algo_SMA_21 = algo_std.rolling(window=21).mean()\n",
    "sp500_SMA_21 = sp500_std.rolling(window=21).mean()"
   ]
  },
  {
   "cell_type": "code",
   "execution_count": null,
   "metadata": {},
   "outputs": [],
   "source": [
    "# Construct a correlation table\n",
    "correlation = Combined_daily_returns.corr()"
   ]
  },
  {
   "cell_type": "code",
   "execution_count": 47,
   "metadata": {},
   "outputs": [
    {
     "output_type": "error",
     "ename": "TypeError",
     "evalue": "'NoneType' object is not subscriptable",
     "traceback": [
      "\u001b[1;31m---------------------------------------------------------------------------\u001b[0m",
      "\u001b[1;31mTypeError\u001b[0m                                 Traceback (most recent call last)",
      "\u001b[1;32m<ipython-input-47-3dd394738e4c>\u001b[0m in \u001b[0;36m<module>\u001b[1;34m\u001b[0m\n\u001b[0;32m      2\u001b[0m \u001b[1;33m\u001b[0m\u001b[0m\n\u001b[0;32m      3\u001b[0m \u001b[1;31m#S&P 500 Varienace\u001b[0m\u001b[1;33m\u001b[0m\u001b[1;33m\u001b[0m\u001b[1;33m\u001b[0m\u001b[0m\n\u001b[1;32m----> 4\u001b[1;33m \u001b[0mvariance\u001b[0m \u001b[1;33m=\u001b[0m \u001b[0mCombined_daily_returns\u001b[0m\u001b[1;33m[\u001b[0m\u001b[1;34m'S&P 500'\u001b[0m\u001b[1;33m]\u001b[0m\u001b[1;33m.\u001b[0m\u001b[0mvar\u001b[0m\u001b[1;33m(\u001b[0m\u001b[1;33m)\u001b[0m\u001b[1;33m\u001b[0m\u001b[1;33m\u001b[0m\u001b[0m\n\u001b[0m\u001b[0;32m      5\u001b[0m \u001b[1;33m\u001b[0m\u001b[0m\n\u001b[0;32m      6\u001b[0m \u001b[1;31m# Covariance\u001b[0m\u001b[1;33m\u001b[0m\u001b[1;33m\u001b[0m\u001b[1;33m\u001b[0m\u001b[0m\n",
      "\u001b[1;31mTypeError\u001b[0m: 'NoneType' object is not subscriptable"
     ]
    }
   ],
   "source": [
    "# Calculate Beta for a single portfolio compared to the total market (S&P 500)\n",
    "\n",
    "#S&P 500 Varienace\n",
    "variance = Combined_daily_returns['S&P 500'].var()\n",
    "\n",
    "# Covariance\n",
    "algo1_cov = Combined_daily_returns['Algo 1'].cov(Combined_daily_returns['S&P 500'])\n",
    "algo2_cov = Combined_daily_returns['Algo 2'].cov(Combined_daily_returns['S&P 500'])\n",
    "soros_cov = Combined_daily_returns['SOROS FUND MANAGEMENT LLC'].cov(Combined_daily_returns['S&P 500'])\n",
    "paulson_cov = Combined_daily_returns['PAULSON & CO.INC.'].cov(Combined_daily_returns['S&P 500'])\n",
    "tiger_cov = Combined_daily_returns['TIGER GLOBAL MANAGEMENT LLC'].cov(Combined_daily_returns['S&P 500'])\n",
    "berkshire_cov = Combined_daily_returns['BERKSHIRE HATHAWAY INC'].cov(Combined_daily_returns['S&P 500'])\n",
    "\n",
    "# Beta\n",
    "algo1_beta = algo1_cov/ variance\n",
    "algo2_beta = algo2_cov / variance\n",
    "soros_beta = soros_cov / variance\n",
    "paulson_beta = paulson_cov / variance\n",
    "tiger_beta = tiger_cov / variance\n",
    "berkshire_beta = berkshire_cov / variance\n",
    "\n",
    "# Rolling beta\n",
    "rolling_berkshire_cov = Combined_daily_returns['BERKSHIRE HATHAWAY INC'].rolling(window=21).cov(Combined_daily_returns['S&P 500'])\n",
    "rolling_variance = Combined_daily_returns['S&P 500'].rolling(window=21).var()\n",
    "\n",
    "rolling_berkshire_beta = rolling_berkshire_cov/rolling_variance\n",
    "\n",
    "\n",
    "#print(f\"Algorithmic 1: {algo1_beta} | Algorithmic 2: {algo2_beta} | SOROS FUND MANAGEMENT LLC: {soros_beta} | PAULSON & CO.INC: {paulson_beta} | TIGER GLOBAL MANAGEMENT LLC: {tiger_beta} | BERKSHIRE HATHAWAY INC: {berkshire_beta}\" )\n",
    "\n",
    "\n"
   ]
  },
  {
   "cell_type": "code",
   "execution_count": null,
   "metadata": {},
   "outputs": [],
   "source": [
    "# Calculate a rolling window using the exponentially weighted moving average.\n",
    "whale_SMA_21 = whale_std.ewm(halflife=21).mean()\n",
    "algo_SMA_21 = algo_std.ewm(halflife=21).mean()\n",
    "sp500_SMA_21 = sp500_std.ewm(halflife=21).mean()"
   ]
  },
  {
   "source": [
    "Sharpe Ratios"
   ],
   "cell_type": "markdown",
   "metadata": {}
  },
  {
   "cell_type": "code",
   "execution_count": null,
   "metadata": {},
   "outputs": [],
   "source": [
    " # Calculate annualized Sharpe Ratios\n",
    " sharpe_ratios = (Combined_daily_returns.mean()*252/ Combined_daily_returns.std() *np.sqrt(252))"
   ]
  },
  {
   "cell_type": "code",
   "execution_count": null,
   "metadata": {},
   "outputs": [],
   "source": [
    "#  Visualize the sharpe ratios as a bar plot\n",
    "sharpe_ratios.plot(kind='bar', title='Sharpe Ratios')"
   ]
  },
  {
   "source": [
    "On the basis of this performance metric, do our algo strategies outperform both 'the market' and the whales? Type your answer here:"
   ],
   "cell_type": "markdown",
   "metadata": {}
  },
  {
   "source": [
    " Portfolio Returns"
   ],
   "cell_type": "markdown",
   "metadata": {}
  },
  {
   "cell_type": "code",
   "execution_count": 48,
   "metadata": {},
   "outputs": [
    {
     "output_type": "execute_result",
     "data": {
      "text/plain": [
       "                     Close\n",
       "Date                      \n",
       "2016-10-06 16:00:00  40.20\n",
       "2016-10-07 16:00:00  39.32\n",
       "2016-10-10 16:00:00  40.19\n",
       "2016-10-11 16:00:00  40.02\n",
       "2016-10-12 16:00:00  40.30"
      ],
      "text/html": "<div>\n<style scoped>\n    .dataframe tbody tr th:only-of-type {\n        vertical-align: middle;\n    }\n\n    .dataframe tbody tr th {\n        vertical-align: top;\n    }\n\n    .dataframe thead th {\n        text-align: right;\n    }\n</style>\n<table border=\"1\" class=\"dataframe\">\n  <thead>\n    <tr style=\"text-align: right;\">\n      <th></th>\n      <th>Close</th>\n    </tr>\n    <tr>\n      <th>Date</th>\n      <th></th>\n    </tr>\n  </thead>\n  <tbody>\n    <tr>\n      <th>2016-10-06 16:00:00</th>\n      <td>40.20</td>\n    </tr>\n    <tr>\n      <th>2016-10-07 16:00:00</th>\n      <td>39.32</td>\n    </tr>\n    <tr>\n      <th>2016-10-10 16:00:00</th>\n      <td>40.19</td>\n    </tr>\n    <tr>\n      <th>2016-10-11 16:00:00</th>\n      <td>40.02</td>\n    </tr>\n    <tr>\n      <th>2016-10-12 16:00:00</th>\n      <td>40.30</td>\n    </tr>\n  </tbody>\n</table>\n</div>"
     },
     "metadata": {},
     "execution_count": 48
    }
   ],
   "source": [
    "# read TSLA file\n",
    "TSLA_path = Path(\"../Resources/TSLA_historical.csv\")\n",
    "\n",
    "TSLA_csv = pd.read_csv(TSLA_path, infer_datetime_format=True, parse_dates=True, index_col=\"Date\")\n",
    "TSLA_csv.head()"
   ]
  },
  {
   "cell_type": "code",
   "execution_count": 49,
   "metadata": {},
   "outputs": [
    {
     "output_type": "execute_result",
     "data": {
      "text/plain": [
       "                      Close\n",
       "Date                       \n",
       "2016-10-06 16:00:00  159.60\n",
       "2016-10-07 16:00:00  159.92\n",
       "2016-10-10 16:00:00  159.74\n",
       "2016-10-11 16:00:00  155.48\n",
       "2016-10-12 16:00:00  154.22"
      ],
      "text/html": "<div>\n<style scoped>\n    .dataframe tbody tr th:only-of-type {\n        vertical-align: middle;\n    }\n\n    .dataframe tbody tr th {\n        vertical-align: top;\n    }\n\n    .dataframe thead th {\n        text-align: right;\n    }\n</style>\n<table border=\"1\" class=\"dataframe\">\n  <thead>\n    <tr style=\"text-align: right;\">\n      <th></th>\n      <th>Close</th>\n    </tr>\n    <tr>\n      <th>Date</th>\n      <th></th>\n    </tr>\n  </thead>\n  <tbody>\n    <tr>\n      <th>2016-10-06 16:00:00</th>\n      <td>159.60</td>\n    </tr>\n    <tr>\n      <th>2016-10-07 16:00:00</th>\n      <td>159.92</td>\n    </tr>\n    <tr>\n      <th>2016-10-10 16:00:00</th>\n      <td>159.74</td>\n    </tr>\n    <tr>\n      <th>2016-10-11 16:00:00</th>\n      <td>155.48</td>\n    </tr>\n    <tr>\n      <th>2016-10-12 16:00:00</th>\n      <td>154.22</td>\n    </tr>\n  </tbody>\n</table>\n</div>"
     },
     "metadata": {},
     "execution_count": 49
    }
   ],
   "source": [
    "# read PANW file\n",
    "PANW_path = Path(\"../Resources/PANW_historical.csv\")\n",
    "\n",
    "PANW_csv = pd.read_csv(PANW_path, infer_datetime_format=True, parse_dates=True, index_col=\"Date\")\n",
    "PANW_csv.head()"
   ]
  },
  {
   "cell_type": "code",
   "execution_count": 51,
   "metadata": {},
   "outputs": [
    {
     "output_type": "execute_result",
     "data": {
      "text/plain": [
       "                        Close\n",
       "Date                         \n",
       "2016-10-06 16:00:00       NaN\n",
       "2016-10-07 16:00:00  0.015568\n",
       "2016-10-10 16:00:00 -0.014202\n",
       "2016-10-11 16:00:00 -0.032701\n",
       "2016-10-12 16:00:00  0.002128"
      ],
      "text/html": "<div>\n<style scoped>\n    .dataframe tbody tr th:only-of-type {\n        vertical-align: middle;\n    }\n\n    .dataframe tbody tr th {\n        vertical-align: top;\n    }\n\n    .dataframe thead th {\n        text-align: right;\n    }\n</style>\n<table border=\"1\" class=\"dataframe\">\n  <thead>\n    <tr style=\"text-align: right;\">\n      <th></th>\n      <th>Close</th>\n    </tr>\n    <tr>\n      <th>Date</th>\n      <th></th>\n    </tr>\n  </thead>\n  <tbody>\n    <tr>\n      <th>2016-10-06 16:00:00</th>\n      <td>NaN</td>\n    </tr>\n    <tr>\n      <th>2016-10-07 16:00:00</th>\n      <td>0.015568</td>\n    </tr>\n    <tr>\n      <th>2016-10-10 16:00:00</th>\n      <td>-0.014202</td>\n    </tr>\n    <tr>\n      <th>2016-10-11 16:00:00</th>\n      <td>-0.032701</td>\n    </tr>\n    <tr>\n      <th>2016-10-12 16:00:00</th>\n      <td>0.002128</td>\n    </tr>\n  </tbody>\n</table>\n</div>"
     },
     "metadata": {},
     "execution_count": 51
    }
   ],
   "source": [
    "# read SHOP file\n",
    "SHOP_path = Path(\"../Resources/SHOP_historical.csv\")\n",
    "\n",
    "SHOP_csv = pd.read_csv(SHOP_path, infer_datetime_format=True, parse_dates=True, index_col=\"Date\")\n",
    "\n",
    "SHOP_returns = SHOP_csv.pct_change()\n",
    "SHOP_returns.head()"
   ]
  },
  {
   "cell_type": "code",
   "execution_count": null,
   "metadata": {},
   "outputs": [],
   "source": [
    "#\n",
    "\n",
    "# Concatenate all stocks into a single DataFrame\n",
    "new_portfolio = pd.concat([algo_returns, sp500_returns, whale_returns], axis='columns', join='inner')\n",
    "\n",
    "Combined_daily_returns.head()\n"
   ]
  }
 ]
}