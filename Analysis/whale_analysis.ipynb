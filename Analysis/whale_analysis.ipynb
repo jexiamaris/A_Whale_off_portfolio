{
 "metadata": {
  "language_info": {
   "codemirror_mode": {
    "name": "ipython",
    "version": 3
   },
   "file_extension": ".py",
   "mimetype": "text/x-python",
   "name": "python",
   "nbconvert_exporter": "python",
   "pygments_lexer": "ipython3",
   "version": "3.8.3-final"
  },
  "orig_nbformat": 2,
  "kernelspec": {
   "name": "Python 3.8.3 64-bit ('base': conda)",
   "display_name": "Python 3.8.3 64-bit ('base': conda)",
   "metadata": {
    "interpreter": {
     "hash": "3b2d1872a97fb64bbb0bf089e5dc4a4b17c31375caf39a3144f71c656be998ab"
    }
   }
  }
 },
 "nbformat": 4,
 "nbformat_minor": 2,
 "cells": [
  {
   "cell_type": "code",
   "execution_count": 1,
   "metadata": {},
   "outputs": [],
   "source": [
    "import pandas as pd \n",
    "import numpy as np \n",
    "import datetime as dt \n",
    "from pathlib import Path\n",
    "%matplotlib inline"
   ]
  },
  {
   "cell_type": "code",
   "execution_count": 2,
   "metadata": {},
   "outputs": [],
   "source": [
    "# read csv file\n",
    "algo_returns_path = Path(\"../Resources/algo_returns.csv\")\n",
    "sp500_historical_path = Path(\"../Resources/sp500_historical.csv\")\n",
    "whale_returns_path = Path(\"../Resources/whale_returns.csv\")\n",
    "\n",
    "algo_returns = pd.read_csv(algo_returns_path, infer_datetime_format=True, parse_dates=True, index_col=\"Date\")\n",
    "sp500_historical = pd.read_csv(sp500_historical_path, infer_datetime_format=True, parse_dates=True, index_col=\"Date\")\n",
    "whale_returns = pd.read_csv(whale_returns_path, infer_datetime_format=True, parse_dates=True, index_col=\"Date\")"
   ]
  },
  {
   "cell_type": "code",
   "execution_count": 3,
   "metadata": {},
   "outputs": [
    {
     "output_type": "execute_result",
     "data": {
      "text/plain": "SOROS FUND MANAGEMENT LLC      1\nPAULSON &amp; CO.INC.              1\nTIGER GLOBAL MANAGEMENT LLC    1\nBERKSHIRE HATHAWAY INC         1\ndtype: int64"
     },
     "metadata": {},
     "execution_count": 3
    }
   ],
   "source": [
    "# Detect and remove null values\n",
    "algo_returns.isnull().mean() * 100\n",
    "sp500_historical.isnull().mean() * 100\n",
    "whale_returns.isnull().mean() * 100\n",
    "\n",
    "#drop nulls\n",
    "algo_returns.dropna()\n",
    "sp500_historical.dropna()\n",
    "whale_returns.dropna()\n",
    "\n",
    "# validate nulls have been drop\n",
    "algo_returns.isnull().sum()\n",
    "sp500_historical.isnull().sum()\n",
    "whale_returns.isnull().sum()\n",
    "\n"
   ]
  },
  {
   "cell_type": "code",
   "execution_count": 4,
   "metadata": {},
   "outputs": [
    {
     "output_type": "execute_result",
     "data": {
      "text/plain": "Date\n2019-04-23    2933.68\n2019-04-22    2907.97\n2019-04-18    2905.03\n2019-04-17    2900.45\n2019-04-16    2907.06\n               ...   \n2012-10-05    1460.93\n2012-10-04    1461.40\n2012-10-03    1450.99\n2012-10-02    1445.75\n2012-10-01    1444.49\nName: Close, Length: 1649, dtype: object"
     },
     "metadata": {},
     "execution_count": 4
    }
   ],
   "source": [
    "# Remove dollar signs\n",
    "sp500_historical = sp500_historical['Close'].str.replace('$', '')\n",
    "sp500_historical"
   ]
  },
  {
   "cell_type": "code",
   "execution_count": 7,
   "metadata": {},
   "outputs": [
    {
     "output_type": "execute_result",
     "data": {
      "text/plain": "dtype(&#39;O&#39;)"
     },
     "metadata": {},
     "execution_count": 7
    }
   ],
   "source": [
    "# confirm data type\n",
    "sp500_historical.dtype"
   ]
  },
  {
   "cell_type": "code",
   "execution_count": 9,
   "metadata": {},
   "outputs": [
    {
     "output_type": "execute_result",
     "data": {
      "text/plain": "dtype(&#39;float64&#39;)"
     },
     "metadata": {},
     "execution_count": 9
    }
   ],
   "source": [
    "# set price as float\n",
    "sp500_historical = sp500_historical.astype('float')\n",
    "sp500_historical.dtype"
   ]
  },
  {
   "cell_type": "code",
   "execution_count": 12,
   "metadata": {},
   "outputs": [
    {
     "output_type": "execute_result",
     "data": {
      "text/plain": "Date\n2019-04-23         NaN\n2019-04-22   -0.008764\n2019-04-18   -0.001011\n2019-04-17   -0.001577\n2019-04-16    0.002279\nName: Close, dtype: float64"
     },
     "metadata": {},
     "execution_count": 12
    }
   ],
   "source": [
    "# Convert the S&P 500 closing prices to daily returns.\n",
    "sp500_returns = sp500_historical.pct_change()\n",
    "sp500_returns.head()"
   ]
  },
  {
   "cell_type": "code",
   "execution_count": null,
   "metadata": {},
   "outputs": [],
   "source": []
  }
 ]
}